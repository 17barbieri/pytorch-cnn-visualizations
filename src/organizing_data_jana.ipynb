{
 "cells": [
  {
   "cell_type": "code",
   "execution_count": 1,
   "metadata": {},
   "outputs": [],
   "source": [
    "import os\n",
    "from shutil import copyfile"
   ]
  },
  {
   "cell_type": "code",
   "execution_count": 2,
   "metadata": {},
   "outputs": [],
   "source": [
    "path = '/home/matteo/Documents/bwh/code/pytorch-cnn-visualizations/results'\n",
    "dest_path = '/home/matteo/Documents/bwh/code/pytorch-cnn-visualizations/jana_test_results'"
   ]
  },
  {
   "cell_type": "code",
   "execution_count": 5,
   "metadata": {},
   "outputs": [],
   "source": [
    "for img in os.listdir(path):\n",
    "    layer = img.split('_')[1]\n",
    "    img_path = os.path.join(path, img)\n",
    "    current_dest_path = os.path.join(dest_path, 'layer_' + str(layer))\n",
    "    os.makedirs(current_dest_path, exist_ok = True)\n",
    "    current_dest_path = os.path.join(current_dest_path, img)\n",
    "    copyfile(img_path, current_dest_path)\n",
    "    os.remove(img_path)\n",
    "    "
   ]
  },
  {
   "cell_type": "code",
   "execution_count": null,
   "metadata": {},
   "outputs": [],
   "source": []
  }
 ],
 "metadata": {
  "kernelspec": {
   "display_name": "Python 3",
   "language": "python",
   "name": "python3"
  },
  "language_info": {
   "codemirror_mode": {
    "name": "ipython",
    "version": 3
   },
   "file_extension": ".py",
   "mimetype": "text/x-python",
   "name": "python",
   "nbconvert_exporter": "python",
   "pygments_lexer": "ipython3",
   "version": "3.7.4"
  }
 },
 "nbformat": 4,
 "nbformat_minor": 4
}
